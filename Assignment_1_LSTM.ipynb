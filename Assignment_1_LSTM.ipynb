{
 "cells": [
  {
   "cell_type": "markdown",
   "metadata": {},
   "source": [
    "# Assignment_1"
   ]
  },
  {
   "cell_type": "markdown",
   "metadata": {},
   "source": [
    "### Student Name - Nitesh Gupta\n",
    "### Student ID - R00195231"
   ]
  },
  {
   "cell_type": "code",
   "execution_count": 90,
   "metadata": {},
   "outputs": [],
   "source": [
    "import gensim\n",
    "import pandas as pd\n",
    "import random\n",
    "import re\n",
    "import nltk\n",
    "import matplotlib.pyplot as plt\n",
    "from keras.preprocessing.text import Tokenizer\n",
    "from keras.preprocessing.sequence import pad_sequences\n",
    "from keras.models import Sequential\n",
    "from keras.layers import *\n",
    "from keras.layers import Dense, Embedding, LSTM, SpatialDropout1D\n",
    "from sklearn.model_selection import train_test_split\n",
    "from keras.layers import Dropout\n",
    "import re\n",
    "from nltk.corpus import stopwords\n",
    "from nltk import word_tokenize\n",
    "from sklearn.metrics import accuracy_score, confusion_matrix, f1_score, classification_report"
   ]
  },
  {
   "cell_type": "markdown",
   "metadata": {},
   "source": [
    "###  Files_Path  "
   ]
  },
  {
   "cell_type": "markdown",
   "metadata": {},
   "source": [
    "Dataset is downloaded from link given in assignment and it should be present in root dirtectory of project. I haven't included due to its large size. "
   ]
  },
  {
   "cell_type": "code",
   "execution_count": 93,
   "metadata": {},
   "outputs": [],
   "source": [
    "class DataStoragePath:\n",
    "    \"\"\"Class for data storage paths\"\"\"\n",
    "    TRAIN_DATA_PATH = \"MADAR-Corpus-26-train.tsv\"\n",
    "    TEST_DATA_PATH = \"MADAR-Corpus-26-dev.tsv\" \n",
    "    FULL_GRAM_CBOW_100_MDL_FILE='full_grams_cbow_100_twitter.mdl'"
   ]
  },
  {
   "cell_type": "markdown",
   "metadata": {},
   "source": [
    "#### Train Word2Vec model with gensim on the dataset"
   ]
  },
  {
   "cell_type": "code",
   "execution_count": 94,
   "metadata": {},
   "outputs": [
    {
     "name": "stdout",
     "output_type": "stream",
     "text": [
      "We've 1476715 vocabularies\n"
     ]
    }
   ],
   "source": [
    "model = gensim.models.Word2Vec.load(DataStoragePath.FULL_GRAM_CBOW_100_MDL_FILE)\n",
    "print(\"We've\",len(model.wv.index2word),\"vocabularies\")"
   ]
  },
  {
   "cell_type": "markdown",
   "metadata": {},
   "source": [
    "##### Retrieve the weights from the model. This is used for initializing the weights in a Keras Embedding layer later"
   ]
  },
  {
   "cell_type": "code",
   "execution_count": 95,
   "metadata": {},
   "outputs": [],
   "source": [
    "w2v_weights = model.wv.vectors\n",
    "vocab_size, embedding_size = w2v_weights.shape"
   ]
  },
  {
   "cell_type": "code",
   "execution_count": 96,
   "metadata": {},
   "outputs": [
    {
     "name": "stdout",
     "output_type": "stream",
     "text": [
      "Vocabulary Size: 1476715 - Embedding Dim: 100\n"
     ]
    }
   ],
   "source": [
    "print(\"Vocabulary Size: {} - Embedding Dim: {}\".format(vocab_size, embedding_size))"
   ]
  },
  {
   "cell_type": "markdown",
   "metadata": {},
   "source": [
    "### Train Data and Test Data Collection "
   ]
  },
  {
   "cell_type": "code",
   "execution_count": 97,
   "metadata": {},
   "outputs": [
    {
     "name": "stderr",
     "output_type": "stream",
     "text": [
      "[nltk_data] Downloading package stopwords to\n",
      "[nltk_data]     C:\\Users\\abhay\\AppData\\Roaming\\nltk_data...\n",
      "[nltk_data]   Package stopwords is already up-to-date!\n"
     ]
    },
    {
     "data": {
      "text/plain": [
       "True"
      ]
     },
     "execution_count": 97,
     "metadata": {},
     "output_type": "execute_result"
    }
   ],
   "source": [
    "import nltk\n",
    "nltk.download('stopwords')"
   ]
  },
  {
   "cell_type": "code",
   "execution_count": 98,
   "metadata": {},
   "outputs": [
    {
     "name": "stdout",
     "output_type": "stream",
     "text": [
      "\n"
     ]
    },
    {
     "data": {
      "image/png": "[encoded data removed]",
      "text/plain": [
       "<Figure size 432x288 with 1 Axes>"
      ]
     },
     "metadata": {
      "needs_background": "light"
     },
     "output_type": "display_data"
    }
   ],
   "source": [
    "train_data = pd.read_csv(DataStoragePath.TRAIN_DATA_PATH, sep='\\t')\n",
    "train_data.columns = ['tweets', 'dialect']\n",
    "\n",
    "axes = train_data.groupby(\"dialect\").count().plot.bar()\n",
    "axes.set_xlabel('Dialect')\n",
    "axes.set_ylabel('Count')\n",
    "plt.sca(axes)\n",
    "plt.xticks(rotation=30)\n",
    "for p in axes.patches:\n",
    "    axes.annotate(str(p.get_height()), (p.get_x() * 2.5, p.get_height() * 1.005))\n",
    "print()"
   ]
  },
  {
   "cell_type": "code",
   "execution_count": 99,
   "metadata": {},
   "outputs": [
    {
     "name": "stdout",
     "output_type": "stream",
     "text": [
      "Shape: (41599, 2)\n"
     ]
    },
    {
     "data": {
      "text/html": [
       "<div>\n",
       "<style scoped>\n",
       "    .dataframe tbody tr th:only-of-type {\n",
       "        vertical-align: middle;\n",
       "    }\n",
       "\n",
       "    .dataframe tbody tr th {\n",
       "        vertical-align: top;\n",
       "    }\n",
       "\n",
       "    .dataframe thead th {\n",
       "        text-align: right;\n",
       "    }\n",
       "</style>\n",
       "<table border=\"1\" class=\"dataframe\">\n",
       "  <thead>\n",
       "    <tr style=\"text-align: right;\">\n",
       "      <th></th>\n",
       "      <th>tweets</th>\n",
       "      <th>dialect</th>\n",
       "    </tr>\n",
       "  </thead>\n",
       "  <tbody>\n",
       "    <tr>\n",
       "      <th>0</th>\n",
       "      <td>لم اسمع بهذا العنوان من قبل بالقرب من هنا .</td>\n",
       "      <td>MSA</td>\n",
       "    </tr>\n",
       "    <tr>\n",
       "      <th>1</th>\n",
       "      <td>استمر في السير في هذا الطريق حتى تجد صيدلية .</td>\n",
       "      <td>MSA</td>\n",
       "    </tr>\n",
       "    <tr>\n",
       "      <th>2</th>\n",
       "      <td>كم تكلفة الإفطار ؟</td>\n",
       "      <td>MSA</td>\n",
       "    </tr>\n",
       "    <tr>\n",
       "      <th>3</th>\n",
       "      <td>كيف أستطيع مساعدتك ؟</td>\n",
       "      <td>MSA</td>\n",
       "    </tr>\n",
       "    <tr>\n",
       "      <th>4</th>\n",
       "      <td>اتجه يسارا عند الناصية الثالثة .</td>\n",
       "      <td>MSA</td>\n",
       "    </tr>\n",
       "  </tbody>\n",
       "</table>\n",
       "</div>"
      ],
      "text/plain": [
       "                                          tweets dialect\n",
       "0    لم اسمع بهذا العنوان من قبل بالقرب من هنا .     MSA\n",
       "1  استمر في السير في هذا الطريق حتى تجد صيدلية .     MSA\n",
       "2                             كم تكلفة الإفطار ؟     MSA\n",
       "3                           كيف أستطيع مساعدتك ؟     MSA\n",
       "4               اتجه يسارا عند الناصية الثالثة .     MSA"
      ]
     },
     "execution_count": 99,
     "metadata": {},
     "output_type": "execute_result"
    }
   ],
   "source": [
    "print(f\"Shape: {train_data.shape}\")\n",
    "\n",
    "train_data.head()"
   ]
  },
  {
   "cell_type": "code",
   "execution_count": 100,
   "metadata": {},
   "outputs": [
    {
     "name": "stdout",
     "output_type": "stream",
     "text": [
      "\n"
     ]
    },
    {
     "data": {
      "image/png": "[encoded data removed]",
      "text/plain": [
       "<Figure size 432x288 with 1 Axes>"
      ]
     },
     "metadata": {
      "needs_background": "light"
     },
     "output_type": "display_data"
    }
   ],
   "source": [
    "test_data = pd.read_csv(DataStoragePath.TEST_DATA_PATH, sep='\\t')\n",
    "test_data.columns = ['tweets', 'dialect']\n",
    "\n",
    "axes = test_data.groupby(\"dialect\").count().plot.bar()\n",
    "axes.set_xlabel('Dialect')\n",
    "axes.set_ylabel('Count')\n",
    "plt.sca(axes)\n",
    "plt.xticks(rotation=30)\n",
    "for p in axes.patches:\n",
    "    axes.annotate(str(p.get_height()), (p.get_x() * 2.5, p.get_height() * 1.005))\n",
    "print()"
   ]
  },
  {
   "cell_type": "code",
   "execution_count": 101,
   "metadata": {},
   "outputs": [
    {
     "name": "stdout",
     "output_type": "stream",
     "text": [
      "Shape: (5199, 2)\n"
     ]
    },
    {
     "data": {
      "text/html": [
       "<div>\n",
       "<style scoped>\n",
       "    .dataframe tbody tr th:only-of-type {\n",
       "        vertical-align: middle;\n",
       "    }\n",
       "\n",
       "    .dataframe tbody tr th {\n",
       "        vertical-align: top;\n",
       "    }\n",
       "\n",
       "    .dataframe thead th {\n",
       "        text-align: right;\n",
       "    }\n",
       "</style>\n",
       "<table border=\"1\" class=\"dataframe\">\n",
       "  <thead>\n",
       "    <tr style=\"text-align: right;\">\n",
       "      <th></th>\n",
       "      <th>tweets</th>\n",
       "      <th>dialect</th>\n",
       "    </tr>\n",
       "  </thead>\n",
       "  <tbody>\n",
       "    <tr>\n",
       "      <th>0</th>\n",
       "      <td>هذا القطار يتوقف في لاك فورست , أليس كذلك ؟</td>\n",
       "      <td>MSA</td>\n",
       "    </tr>\n",
       "    <tr>\n",
       "      <th>1</th>\n",
       "      <td>هذا الكارت , حسناً ؟</td>\n",
       "      <td>MSA</td>\n",
       "    </tr>\n",
       "    <tr>\n",
       "      <th>2</th>\n",
       "      <td>لم يخرج من الماكينة شيء .</td>\n",
       "      <td>MSA</td>\n",
       "    </tr>\n",
       "    <tr>\n",
       "      <th>3</th>\n",
       "      <td>عندك أية شيء يمكن أن أتعاطه للطفح الجلدي ؟</td>\n",
       "      <td>MSA</td>\n",
       "    </tr>\n",
       "    <tr>\n",
       "      <th>4</th>\n",
       "      <td>أكيدا التي تتحدث معك ، أنا عندي حجز مائدة في ت...</td>\n",
       "      <td>MSA</td>\n",
       "    </tr>\n",
       "  </tbody>\n",
       "</table>\n",
       "</div>"
      ],
      "text/plain": [
       "                                              tweets dialect\n",
       "0        هذا القطار يتوقف في لاك فورست , أليس كذلك ؟     MSA\n",
       "1                               هذا الكارت , حسناً ؟     MSA\n",
       "2                          لم يخرج من الماكينة شيء .     MSA\n",
       "3         عندك أية شيء يمكن أن أتعاطه للطفح الجلدي ؟     MSA\n",
       "4  أكيدا التي تتحدث معك ، أنا عندي حجز مائدة في ت...     MSA"
      ]
     },
     "execution_count": 101,
     "metadata": {},
     "output_type": "execute_result"
    }
   ],
   "source": [
    "print(f\"Shape: {test_data.shape}\")\n",
    "\n",
    "test_data.head()"
   ]
  },
  {
   "cell_type": "markdown",
   "metadata": {},
   "source": [
    "#### Text Preprocessing Method"
   ]
  },
  {
   "cell_type": "markdown",
   "metadata": {},
   "source": [
    "* **Minimum term length**: Exclude terms of length < 2: Done automatically by scikit-learn's vectorizer\n",
    "* **Case conversion**: Converting all terms to lowercase. Done automatically by scikit-learn's vectorizer. But I performed it due     to caution.\n",
    "* **Word Stemming**: Process to reduce a term to its canonical form.\n",
    "* **Stop-word filtering**: Remove terms that appear on a pre-defined filter list of terms that are highly frequent and don not       convey useful information.\n",
    "* **Low frequency filtering**: Remove terms that appear in very few documents.\n",
    "* **Term weighting**: Giving heigher weights to more \"important\" terms. Used *TF-IDF* approach. Giving more weight when a term         appears multiple times in a single document and penalizsing common terms that appear in almost every document."
   ]
  },
  {
   "cell_type": "code",
   "execution_count": 102,
   "metadata": {},
   "outputs": [],
   "source": [
    "import re\n",
    "def preprocessing(data, infrequent_words_removal_count=10):\n",
    "    # Making all letters lowercase\n",
    "    data[\"tweets\"] = data[\"tweets\"].apply(lambda x: \" \".join(x.lower() for x in x.split()))\n",
    "\n",
    "    # Removing Punctuation, Symbols\n",
    "    data['tweets'] = data['tweets'].str.replace('[^\\w\\s]', ' ')\n",
    "\n",
    "    # Code to find the top 10 rarest words appearing in the data\n",
    "    freq = pd.Series(' '.join(data[\"tweets\"]).split()).value_counts()[-infrequent_words_removal_count:]\n",
    "\n",
    "    # Removing all those rarely appearing words from the data\n",
    "    freq = list(freq.index)\n",
    "    data[\"tweets\"] = data[\"tweets\"].apply(\n",
    "        lambda line: \" \".join(line for line in line.split() if line not in freq))\n",
    "\n",
    "    # Removing repeating words \n",
    "    def de_repeat(text):\n",
    "        pattern = re.compile(r\"(.)\\1{2,}\")\n",
    "        return pattern.sub(\"r\\1\\1\", text)\n",
    "\n",
    "    data[\"tweets\"] = data[\"tweets\"].apply(lambda line: \" \".join(de_repeat(line) for line in line.split()))\n",
    "    return data"
   ]
  },
  {
   "cell_type": "markdown",
   "metadata": {},
   "source": [
    "#### Train Data Preprocessing "
   ]
  },
  {
   "cell_type": "code",
   "execution_count": 103,
   "metadata": {},
   "outputs": [],
   "source": [
    "train_data = preprocessing(train_data,10000)"
   ]
  },
  {
   "cell_type": "markdown",
   "metadata": {},
   "source": [
    "#### Test Preprocessing"
   ]
  },
  {
   "cell_type": "code",
   "execution_count": 104,
   "metadata": {},
   "outputs": [],
   "source": [
    "test_data = preprocessing(test_data)"
   ]
  },
  {
   "cell_type": "markdown",
   "metadata": {},
   "source": [
    "######  Removing Stop Words using NLTK "
   ]
  },
  {
   "cell_type": "code",
   "execution_count": 105,
   "metadata": {},
   "outputs": [
    {
     "name": "stdout",
     "output_type": "stream",
     "text": [
      "Sample stopwords: ['اذ', 'اذا', 'اذم', 'اذن', 'اف', 'اقل', 'كثر', 'الا', 'الا', 'التي']\n"
     ]
    }
   ],
   "source": [
    "from nltk.corpus import stopwords\n",
    "stemmer = nltk.stem.isri.ISRIStemmer()\n",
    "stemmed_stop_words = [stemmer.stem(words) for words in stopwords.words()]\n",
    "print(\"Sample stopwords:\", stemmed_stop_words[0:10])"
   ]
  },
  {
   "cell_type": "code",
   "execution_count": 106,
   "metadata": {},
   "outputs": [],
   "source": [
    "STOPWORDS = stemmed_stop_words\n",
    "def clean_text(text):\n",
    "    text = ' '.join(word for word in text.split() if word not in STOPWORDS)\n",
    "    return text"
   ]
  },
  {
   "cell_type": "code",
   "execution_count": 107,
   "metadata": {},
   "outputs": [],
   "source": [
    "train_data['tweets'] = train_data['tweets'].apply(clean_text)"
   ]
  },
  {
   "cell_type": "code",
   "execution_count": 108,
   "metadata": {},
   "outputs": [],
   "source": [
    "test_data['tweets'] = test_data['tweets'].apply(clean_text)"
   ]
  },
  {
   "cell_type": "markdown",
   "metadata": {},
   "source": [
    "#### Tokenization "
   ]
  },
  {
   "cell_type": "markdown",
   "metadata": {},
   "source": [
    "Tokens are created by keras.preprocessing.tokenizer. It  is filtered unneccessary data and stored word index. "
   ]
  },
  {
   "cell_type": "code",
   "execution_count": 109,
   "metadata": {},
   "outputs": [
    {
     "name": "stdout",
     "output_type": "stream",
     "text": [
      "Found 17251 unique tokens.\n"
     ]
    }
   ],
   "source": [
    "# The maximum number of words to be used. (most frequent)\n",
    "MAX_NB_WORDS = 50000\n",
    "# Max number of words in each complaint.\n",
    "MAX_SEQUENCE_LENGTH = 250\n",
    "# This is fixed.\n",
    "EMBEDDING_DIM = 100\n",
    "tokenizer = Tokenizer(num_words=MAX_NB_WORDS, filters='!\"#$%&()*+,-./:;<=>?@[\\]^_`{|}~', lower=True)\n",
    "tokenizer.fit_on_texts(train_data['tweets'].values)\n",
    "word_index = tokenizer.word_index\n",
    "print('Found %s unique tokens.' % len(word_index))"
   ]
  },
  {
   "cell_type": "markdown",
   "metadata": {},
   "source": [
    "### Conversion text to sequence "
   ]
  },
  {
   "cell_type": "markdown",
   "metadata": {},
   "source": [
    "Tweets and dialect are converted into numeric sequences by pad_sequence and get dummies method "
   ]
  },
  {
   "cell_type": "code",
   "execution_count": 110,
   "metadata": {},
   "outputs": [
    {
     "name": "stdout",
     "output_type": "stream",
     "text": [
      "Shape of train_data tensor: (41599, 250)\n"
     ]
    }
   ],
   "source": [
    "X_train = tokenizer.texts_to_sequences(train_data['tweets'].values)\n",
    "X_train = pad_sequences(X_train, maxlen=MAX_SEQUENCE_LENGTH)\n",
    "print('Shape of train_data tensor:', X_train.shape)"
   ]
  },
  {
   "cell_type": "code",
   "execution_count": 111,
   "metadata": {},
   "outputs": [
    {
     "name": "stdout",
     "output_type": "stream",
     "text": [
      "Shape of train_label tensor: (41599, 26)\n"
     ]
    }
   ],
   "source": [
    "Y_train = pd.get_dummies(train_data['dialect']).values\n",
    "print('Shape of train_label tensor:', Y_train.shape)"
   ]
  },
  {
   "cell_type": "code",
   "execution_count": 112,
   "metadata": {},
   "outputs": [
    {
     "name": "stdout",
     "output_type": "stream",
     "text": [
      "Shape of test_data tensor: (5199, 250)\n"
     ]
    }
   ],
   "source": [
    "X_test = tokenizer.texts_to_sequences(test_data['tweets'].values)\n",
    "X_test = pad_sequences(X_test, maxlen=MAX_SEQUENCE_LENGTH)\n",
    "print('Shape of test_data tensor:', X_test.shape)"
   ]
  },
  {
   "cell_type": "code",
   "execution_count": 113,
   "metadata": {},
   "outputs": [
    {
     "name": "stdout",
     "output_type": "stream",
     "text": [
      "Shape of test_label tensor: (5199, 26)\n"
     ]
    }
   ],
   "source": [
    "Y_test = pd.get_dummies(test_data['dialect']).values\n",
    "print('Shape of test_label tensor:', Y_test.shape)"
   ]
  },
  {
   "cell_type": "code",
   "execution_count": 114,
   "metadata": {},
   "outputs": [
    {
     "name": "stdout",
     "output_type": "stream",
     "text": [
      "Train Shapes - X: (41599, 250) - Y: (41599, 26)\n",
      "Test Shapes - X: (5199, 250) - Y: (5199, 26)\n"
     ]
    }
   ],
   "source": [
    "print(\"Train Shapes - X: {} - Y: {}\".format(X_train.shape, Y_train.shape))\n",
    "print(\"Test Shapes - X: {} - Y: {}\".format(X_test.shape, Y_test.shape))"
   ]
  },
  {
   "cell_type": "markdown",
   "metadata": {},
   "source": [
    "### Sequential Model with LSTM Architecture "
   ]
  },
  {
   "cell_type": "code",
   "execution_count": 60,
   "metadata": {},
   "outputs": [
    {
     "name": "stdout",
     "output_type": "stream",
     "text": [
      "Epoch 1/5\n",
      "585/585 [==============================] - 1629s 3s/step - loss: 3.1079 - accuracy: 0.0908 - val_loss: 8.0492 - val_accuracy: 0.0000e+00\n",
      "Epoch 2/5\n",
      "585/585 [==============================] - 1788s 3s/step - loss: 2.7876 - accuracy: 0.1837 - val_loss: 10.3859 - val_accuracy: 0.0000e+00\n",
      "Epoch 3/5\n",
      "585/585 [==============================] - 1620s 3s/step - loss: 2.4583 - accuracy: 0.2631 - val_loss: 11.4440 - val_accuracy: 0.0000e+00\n",
      "Epoch 4/5\n",
      "585/585 [==============================] - 1624s 3s/step - loss: 2.2697 - accuracy: 0.3102 - val_loss: 12.1731 - val_accuracy: 0.0000e+00\n"
     ]
    }
   ],
   "source": [
    "model = Sequential()\n",
    "model.add(Embedding(input_dim=vocab_size,output_dim=embedding_size,weights=[w2v_weights], input_length=X_train.shape[1]))\n",
    "\n",
    "model.add(SpatialDropout1D(0.2))\n",
    "model.add(LSTM(100, dropout=0.2, recurrent_dropout=0.2))\n",
    "model.add(Dense(26, activation='softmax'))\n",
    "model.compile(loss='categorical_crossentropy', optimizer='adam', metrics=['accuracy'])\n",
    "\n",
    "history = model.fit(X_train, Y_train, epochs=5, batch_size=64,validation_split=0.1,callbacks=[EarlyStopping(monitor='val_loss', patience=3, min_delta=0.0001)])"
   ]
  },
  {
   "cell_type": "code",
   "execution_count": 64,
   "metadata": {},
   "outputs": [
    {
     "name": "stdout",
     "output_type": "stream",
     "text": [
      "163/163 [==============================] - 6s 34ms/step - loss: 3.0121 - accuracy: 0.3412\n",
      "Test set\n",
      "  Loss: 3.012\n",
      "  Accuracy: 0.341\n"
     ]
    }
   ],
   "source": [
    "accr = model.evaluate(X_test,Y_test)\n",
    "print('Test set\\n  Loss: {:0.3f}\\n  Accuracy: {:0.3f}'.format(accr[0],accr[1]))"
   ]
  },
  {
   "cell_type": "code",
   "execution_count": 72,
   "metadata": {},
   "outputs": [
    {
     "data": {
      "image/png": "[encoded data removed]",
      "text/plain": [
       "<Figure size 864x864 with 1 Axes>"
      ]
     },
     "metadata": {
      "needs_background": "light"
     },
     "output_type": "display_data"
    }
   ],
   "source": [
    "plt.figure(figsize=(12, 12))\n",
    "plt.plot(history.history['loss'])\n",
    "plt.plot(history.history['val_loss'])\n",
    "plt.title('Loss')\n",
    "plt.legend(['train', 'test'], loc='upper left')\n",
    "plt.show()"
   ]
  },
  {
   "cell_type": "code",
   "execution_count": 69,
   "metadata": {},
   "outputs": [
    {
     "data": {
      "image/png": "[encoded data removed]",
      "text/plain": [
       "<Figure size 864x864 with 1 Axes>"
      ]
     },
     "metadata": {
      "needs_background": "light"
     },
     "output_type": "display_data"
    }
   ],
   "source": [
    "plt.figure(figsize=(12, 12))\n",
    "plt.plot(history.history['accuracy'])\n",
    "plt.plot(history.history['val_accuracy'])\n",
    "plt.title('Accuracy')\n",
    "plt.legend(['train', 'test'], loc='upper left')\n",
    "plt.show()"
   ]
  },
  {
   "cell_type": "markdown",
   "metadata": {},
   "source": [
    "### Conclusion "
   ]
  },
  {
   "cell_type": "markdown",
   "metadata": {},
   "source": [
    "The plots suggest that the model has a little underfitting problem, different set of hyper tuned values might be helpful. The Pretrained model consumes heavy computational time but can be useful to produce prediction accurately . This part assignment taught us about LSTM architecture"
   ]
  },
  {
   "cell_type": "markdown",
   "metadata": {},
   "source": [
    "### Reference\n"
   ]
  },
  {
   "cell_type": "markdown",
   "metadata": {},
   "source": [
    "https://towardsdatascience.com/multi-class-text-classification-with-lstm-1590bee1bd17"
   ]
  }
 ],
 "metadata": {
  "kernelspec": {
   "display_name": "Python 3",
   "language": "python",
   "name": "python3"
  },
  "language_info": {
   "codemirror_mode": {
    "name": "ipython",
    "version": 3
   },
   "file_extension": ".py",
   "mimetype": "text/x-python",
   "name": "python",
   "nbconvert_exporter": "python",
   "pygments_lexer": "ipython3",
   "version": "3.8.5"
  }
 },
 "nbformat": 4,
 "nbformat_minor": 4
}
