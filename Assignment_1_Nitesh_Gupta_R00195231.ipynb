{
 "cells": [
  {
   "cell_type": "markdown",
   "metadata": {},
   "source": [
    "# Assignment_1"
   ]
  },
  {
   "cell_type": "markdown",
   "metadata": {},
   "source": [
    "**Student no: R00195231**\n",
    "\n",
    "External Dependencies\n",
    "\n",
    "* `pip install pandas`\n",
    "* `pip install nltk`\n",
    "* `pip install sklearn`\n",
    "* `pip install matplotlib`\n"
   ]
  },
  {
   "cell_type": "code",
   "execution_count": 1,
   "metadata": {},
   "outputs": [],
   "source": [
    "import re\n",
    "import nltk\n",
    "import pandas as pd\n",
    "import matplotlib.pyplot as plt\n",
    "from nltk.corpus import stopwords\n",
    "from sklearn import preprocessing\n",
    "from sklearn.feature_extraction.text import CountVectorizer, TfidfVectorizer\n",
    "from sklearn.metrics import accuracy_score\n",
    "from sklearn.naive_bayes import MultinomialNB\n",
    "from sklearn.linear_model import SGDClassifier\n",
    "from sklearn.metrics import accuracy_score, confusion_matrix, f1_score, classification_report"
   ]
  },
  {
   "cell_type": "markdown",
   "metadata": {},
   "source": [
    "Downloading stopwords list for nltk. It will be used later for text pre-processing"
   ]
  },
  {
   "cell_type": "code",
   "execution_count": 2,
   "metadata": {},
   "outputs": [
    {
     "name": "stderr",
     "output_type": "stream",
     "text": [
      "[nltk_data] Downloading package stopwords to\n",
      "[nltk_data]     C:\\Users\\abhay\\AppData\\Roaming\\nltk_data...\n",
      "[nltk_data]   Package stopwords is already up-to-date!\n"
     ]
    },
    {
     "data": {
      "text/plain": [
       "True"
      ]
     },
     "execution_count": 2,
     "metadata": {},
     "output_type": "execute_result"
    }
   ],
   "source": [
    "nltk.download('stopwords')"
   ]
  },
  {
   "cell_type": "markdown",
   "metadata": {},
   "source": [
    "### Task 1 - Load data from .tsv file"
   ]
  },
  {
   "cell_type": "markdown",
   "metadata": {},
   "source": [
    "Dataset is downloaded from link given in assignment and it should be present in root dirtectory of project. I haven't included due to its large size. "
   ]
  },
  {
   "cell_type": "code",
   "execution_count": 3,
   "metadata": {},
   "outputs": [],
   "source": [
    "class DataStoragePath:\n",
    "    \"\"\"Class for data storage paths\"\"\"\n",
    "    TRAIN_DATA_PATH = \"MADAR-Corpus-26-train.tsv\"\n",
    "    TEST_DATA_PATH = \"MADAR-Corpus-26-dev.tsv\""
   ]
  },
  {
   "cell_type": "markdown",
   "metadata": {},
   "source": [
    "#### Train_Data_Visualization"
   ]
  },
  {
   "cell_type": "code",
   "execution_count": 4,
   "metadata": {},
   "outputs": [
    {
     "name": "stdout",
     "output_type": "stream",
     "text": [
      "\n"
     ]
    },
    {
     "data": {
      "image/png": "[encoded data removed]",
      "text/plain": [
       "<Figure size 432x288 with 1 Axes>"
      ]
     },
     "metadata": {
      "needs_background": "light"
     },
     "output_type": "display_data"
    }
   ],
   "source": [
    "train_data = pd.read_csv(DataStoragePath.TRAIN_DATA_PATH, sep='\\t')\n",
    "train_data.columns = ['tweets', 'dialect']\n",
    "\n",
    "axes = train_data.groupby(\"dialect\").count().plot.bar()\n",
    "axes.set_xlabel('Dialect')\n",
    "axes.set_ylabel('Count')\n",
    "plt.sca(axes)\n",
    "plt.xticks(rotation=30)\n",
    "for p in axes.patches:\n",
    "    axes.annotate(str(p.get_height()), (p.get_x() * 2.5, p.get_height() * 1.005))\n",
    "print()"
   ]
  },
  {
   "cell_type": "code",
   "execution_count": 5,
   "metadata": {},
   "outputs": [
    {
     "name": "stdout",
     "output_type": "stream",
     "text": [
      "Shape: (41599, 2)\n"
     ]
    },
    {
     "data": {
      "text/html": [
       "<div>\n",
       "<style scoped>\n",
       "    .dataframe tbody tr th:only-of-type {\n",
       "        vertical-align: middle;\n",
       "    }\n",
       "\n",
       "    .dataframe tbody tr th {\n",
       "        vertical-align: top;\n",
       "    }\n",
       "\n",
       "    .dataframe thead th {\n",
       "        text-align: right;\n",
       "    }\n",
       "</style>\n",
       "<table border=\"1\" class=\"dataframe\">\n",
       "  <thead>\n",
       "    <tr style=\"text-align: right;\">\n",
       "      <th></th>\n",
       "      <th>tweets</th>\n",
       "      <th>dialect</th>\n",
       "    </tr>\n",
       "  </thead>\n",
       "  <tbody>\n",
       "    <tr>\n",
       "      <th>0</th>\n",
       "      <td>لم اسمع بهذا العنوان من قبل بالقرب من هنا .</td>\n",
       "      <td>MSA</td>\n",
       "    </tr>\n",
       "    <tr>\n",
       "      <th>1</th>\n",
       "      <td>استمر في السير في هذا الطريق حتى تجد صيدلية .</td>\n",
       "      <td>MSA</td>\n",
       "    </tr>\n",
       "    <tr>\n",
       "      <th>2</th>\n",
       "      <td>كم تكلفة الإفطار ؟</td>\n",
       "      <td>MSA</td>\n",
       "    </tr>\n",
       "    <tr>\n",
       "      <th>3</th>\n",
       "      <td>كيف أستطيع مساعدتك ؟</td>\n",
       "      <td>MSA</td>\n",
       "    </tr>\n",
       "    <tr>\n",
       "      <th>4</th>\n",
       "      <td>اتجه يسارا عند الناصية الثالثة .</td>\n",
       "      <td>MSA</td>\n",
       "    </tr>\n",
       "  </tbody>\n",
       "</table>\n",
       "</div>"
      ],
      "text/plain": [
       "                                          tweets dialect\n",
       "0    لم اسمع بهذا العنوان من قبل بالقرب من هنا .     MSA\n",
       "1  استمر في السير في هذا الطريق حتى تجد صيدلية .     MSA\n",
       "2                             كم تكلفة الإفطار ؟     MSA\n",
       "3                           كيف أستطيع مساعدتك ؟     MSA\n",
       "4               اتجه يسارا عند الناصية الثالثة .     MSA"
      ]
     },
     "execution_count": 5,
     "metadata": {},
     "output_type": "execute_result"
    }
   ],
   "source": [
    "print(f\"Shape: {train_data.shape}\")\n",
    "\n",
    "train_data.head()"
   ]
  },
  {
   "cell_type": "markdown",
   "metadata": {},
   "source": [
    "#### Test Data Visualization"
   ]
  },
  {
   "cell_type": "code",
   "execution_count": 6,
   "metadata": {},
   "outputs": [
    {
     "name": "stdout",
     "output_type": "stream",
     "text": [
      "\n"
     ]
    },
    {
     "data": {
      "image/png": "[encoded data removed]",
      "text/plain": [
       "<Figure size 432x288 with 1 Axes>"
      ]
     },
     "metadata": {
      "needs_background": "light"
     },
     "output_type": "display_data"
    }
   ],
   "source": [
    "test_data = pd.read_csv(DataStoragePath.TEST_DATA_PATH, sep='\\t')\n",
    "test_data.columns = ['tweets', 'dialect']\n",
    "\n",
    "axes = test_data.groupby(\"dialect\").count().plot.bar()\n",
    "axes.set_xlabel('Dialect')\n",
    "axes.set_ylabel('Count')\n",
    "plt.sca(axes)\n",
    "plt.xticks(rotation=30)\n",
    "for p in axes.patches:\n",
    "    axes.annotate(str(p.get_height()), (p.get_x() * 2.5, p.get_height() * 1.005))\n",
    "print()"
   ]
  },
  {
   "cell_type": "code",
   "execution_count": 7,
   "metadata": {},
   "outputs": [
    {
     "name": "stdout",
     "output_type": "stream",
     "text": [
      "Shape: (5199, 2)\n"
     ]
    },
    {
     "data": {
      "text/html": [
       "<div>\n",
       "<style scoped>\n",
       "    .dataframe tbody tr th:only-of-type {\n",
       "        vertical-align: middle;\n",
       "    }\n",
       "\n",
       "    .dataframe tbody tr th {\n",
       "        vertical-align: top;\n",
       "    }\n",
       "\n",
       "    .dataframe thead th {\n",
       "        text-align: right;\n",
       "    }\n",
       "</style>\n",
       "<table border=\"1\" class=\"dataframe\">\n",
       "  <thead>\n",
       "    <tr style=\"text-align: right;\">\n",
       "      <th></th>\n",
       "      <th>tweets</th>\n",
       "      <th>dialect</th>\n",
       "    </tr>\n",
       "  </thead>\n",
       "  <tbody>\n",
       "    <tr>\n",
       "      <th>0</th>\n",
       "      <td>هذا القطار يتوقف في لاك فورست , أليس كذلك ؟</td>\n",
       "      <td>MSA</td>\n",
       "    </tr>\n",
       "    <tr>\n",
       "      <th>1</th>\n",
       "      <td>هذا الكارت , حسناً ؟</td>\n",
       "      <td>MSA</td>\n",
       "    </tr>\n",
       "    <tr>\n",
       "      <th>2</th>\n",
       "      <td>لم يخرج من الماكينة شيء .</td>\n",
       "      <td>MSA</td>\n",
       "    </tr>\n",
       "    <tr>\n",
       "      <th>3</th>\n",
       "      <td>عندك أية شيء يمكن أن أتعاطه للطفح الجلدي ؟</td>\n",
       "      <td>MSA</td>\n",
       "    </tr>\n",
       "    <tr>\n",
       "      <th>4</th>\n",
       "      <td>أكيدا التي تتحدث معك ، أنا عندي حجز مائدة في ت...</td>\n",
       "      <td>MSA</td>\n",
       "    </tr>\n",
       "  </tbody>\n",
       "</table>\n",
       "</div>"
      ],
      "text/plain": [
       "                                              tweets dialect\n",
       "0        هذا القطار يتوقف في لاك فورست , أليس كذلك ؟     MSA\n",
       "1                               هذا الكارت , حسناً ؟     MSA\n",
       "2                          لم يخرج من الماكينة شيء .     MSA\n",
       "3         عندك أية شيء يمكن أن أتعاطه للطفح الجلدي ؟     MSA\n",
       "4  أكيدا التي تتحدث معك ، أنا عندي حجز مائدة في ت...     MSA"
      ]
     },
     "execution_count": 7,
     "metadata": {},
     "output_type": "execute_result"
    }
   ],
   "source": [
    "print(f\"Shape: {test_data.shape}\")\n",
    "\n",
    "test_data.head()"
   ]
  },
  {
   "cell_type": "markdown",
   "metadata": {},
   "source": [
    "#### Text pre-processing steps used \n"
   ]
  },
  {
   "cell_type": "markdown",
   "metadata": {},
   "source": [
    "* **Minimum term length**: Exclude terms of length < 2: Done automatically by scikit-learn's vectorizer\n",
    "* **Case conversion**: Converting all terms to lowercase. Done automatically by scikit-learn's vectorizer. But I performed it due     to caution.\n",
    "* **Word Stemming**: Process to reduce a term to its canonical form.\n",
    "* **Stop-word filtering**: Remove terms that appear on a pre-defined filter list of terms that are highly frequent and don not       convey useful information.\n",
    "* **Low frequency filtering**: Remove terms that appear in very few documents.\n",
    "* **Term weighting**: Giving heigher weights to more \"important\" terms. Used *TF-IDF* approach. Giving more weight when a term         appears multiple times in a single document and penalizsing common terms that appear in almost every document."
   ]
  },
  {
   "cell_type": "markdown",
   "metadata": {},
   "source": [
    "#### Text Preprocessing Method"
   ]
  },
  {
   "cell_type": "code",
   "execution_count": 8,
   "metadata": {},
   "outputs": [],
   "source": [
    "def preprocessing(data, infrequent_words_removal_count=10):\n",
    "    # Making all letters lowercase\n",
    "    data[\"tweets\"] = data[\"tweets\"].apply(lambda x: \" \".join(x.lower() for x in x.split()))\n",
    "\n",
    "    # Removing Punctuation, Symbols\n",
    "    data['tweets'] = data['tweets'].str.replace('[^\\w\\s]', ' ')\n",
    "\n",
    "    # Code to find the top 10 rarest words appearing in the data\n",
    "    freq = pd.Series(' '.join(data[\"tweets\"]).split()).value_counts()[-infrequent_words_removal_count:]\n",
    "\n",
    "    # Removing all those rarely appearing words from the data\n",
    "    freq = list(freq.index)\n",
    "    data[\"tweets\"] = data[\"tweets\"].apply(\n",
    "        lambda line: \" \".join(line for line in line.split() if line not in freq))\n",
    "\n",
    "    # Removing repeating words \n",
    "    def de_repeat(text):\n",
    "        pattern = re.compile(r\"(.)\\1{2,}\")\n",
    "        return pattern.sub(\"r\\1\\1\", text)\n",
    "\n",
    "    data[\"tweets\"] = data[\"tweets\"].apply(lambda line: \" \".join(de_repeat(line) for line in line.split()))\n",
    "    return data"
   ]
  },
  {
   "cell_type": "code",
   "execution_count": 9,
   "metadata": {},
   "outputs": [],
   "source": [
    "train_data = preprocessing(train_data,10000)"
   ]
  },
  {
   "cell_type": "code",
   "execution_count": 10,
   "metadata": {},
   "outputs": [
    {
     "name": "stdout",
     "output_type": "stream",
     "text": [
      "Shape: (41599, 2)\n"
     ]
    },
    {
     "data": {
      "text/html": [
       "<div>\n",
       "<style scoped>\n",
       "    .dataframe tbody tr th:only-of-type {\n",
       "        vertical-align: middle;\n",
       "    }\n",
       "\n",
       "    .dataframe tbody tr th {\n",
       "        vertical-align: top;\n",
       "    }\n",
       "\n",
       "    .dataframe thead th {\n",
       "        text-align: right;\n",
       "    }\n",
       "</style>\n",
       "<table border=\"1\" class=\"dataframe\">\n",
       "  <thead>\n",
       "    <tr style=\"text-align: right;\">\n",
       "      <th></th>\n",
       "      <th>tweets</th>\n",
       "      <th>dialect</th>\n",
       "    </tr>\n",
       "  </thead>\n",
       "  <tbody>\n",
       "    <tr>\n",
       "      <th>0</th>\n",
       "      <td>لم بهذا العنوان من قبل بالقرب من هنا</td>\n",
       "      <td>MSA</td>\n",
       "    </tr>\n",
       "    <tr>\n",
       "      <th>1</th>\n",
       "      <td>استمر في السير في هذا الطريق حتى تجد صيدلية</td>\n",
       "      <td>MSA</td>\n",
       "    </tr>\n",
       "    <tr>\n",
       "      <th>2</th>\n",
       "      <td>كم تكلفة الإفطار</td>\n",
       "      <td>MSA</td>\n",
       "    </tr>\n",
       "    <tr>\n",
       "      <th>3</th>\n",
       "      <td>كيف أستطيع مساعدتك</td>\n",
       "      <td>MSA</td>\n",
       "    </tr>\n",
       "    <tr>\n",
       "      <th>4</th>\n",
       "      <td>اتجه يسارا عند الناصية الثالثة</td>\n",
       "      <td>MSA</td>\n",
       "    </tr>\n",
       "  </tbody>\n",
       "</table>\n",
       "</div>"
      ],
      "text/plain": [
       "                                        tweets dialect\n",
       "0         لم بهذا العنوان من قبل بالقرب من هنا     MSA\n",
       "1  استمر في السير في هذا الطريق حتى تجد صيدلية     MSA\n",
       "2                             كم تكلفة الإفطار     MSA\n",
       "3                           كيف أستطيع مساعدتك     MSA\n",
       "4               اتجه يسارا عند الناصية الثالثة     MSA"
      ]
     },
     "execution_count": 10,
     "metadata": {},
     "output_type": "execute_result"
    }
   ],
   "source": [
    "print(f\"Shape: {train_data.shape}\")\n",
    "\n",
    "train_data.head()"
   ]
  },
  {
   "cell_type": "code",
   "execution_count": 11,
   "metadata": {},
   "outputs": [],
   "source": [
    "test_data = preprocessing(test_data)"
   ]
  },
  {
   "cell_type": "code",
   "execution_count": 12,
   "metadata": {},
   "outputs": [
    {
     "name": "stdout",
     "output_type": "stream",
     "text": [
      "Shape: (5199, 2)\n"
     ]
    },
    {
     "data": {
      "text/html": [
       "<div>\n",
       "<style scoped>\n",
       "    .dataframe tbody tr th:only-of-type {\n",
       "        vertical-align: middle;\n",
       "    }\n",
       "\n",
       "    .dataframe tbody tr th {\n",
       "        vertical-align: top;\n",
       "    }\n",
       "\n",
       "    .dataframe thead th {\n",
       "        text-align: right;\n",
       "    }\n",
       "</style>\n",
       "<table border=\"1\" class=\"dataframe\">\n",
       "  <thead>\n",
       "    <tr style=\"text-align: right;\">\n",
       "      <th></th>\n",
       "      <th>tweets</th>\n",
       "      <th>dialect</th>\n",
       "    </tr>\n",
       "  </thead>\n",
       "  <tbody>\n",
       "    <tr>\n",
       "      <th>0</th>\n",
       "      <td>هذا القطار يتوقف في لاك فورست أليس كذلك</td>\n",
       "      <td>MSA</td>\n",
       "    </tr>\n",
       "    <tr>\n",
       "      <th>1</th>\n",
       "      <td>هذا الكارت حسنا</td>\n",
       "      <td>MSA</td>\n",
       "    </tr>\n",
       "    <tr>\n",
       "      <th>2</th>\n",
       "      <td>لم يخرج من الماكينة شيء</td>\n",
       "      <td>MSA</td>\n",
       "    </tr>\n",
       "    <tr>\n",
       "      <th>3</th>\n",
       "      <td>عندك أية شيء يمكن أن أتعاطه للطفح الجلدي</td>\n",
       "      <td>MSA</td>\n",
       "    </tr>\n",
       "    <tr>\n",
       "      <th>4</th>\n",
       "      <td>أكيدا التي تتحدث معك أنا عندي حجز مائدة في تما...</td>\n",
       "      <td>MSA</td>\n",
       "    </tr>\n",
       "  </tbody>\n",
       "</table>\n",
       "</div>"
      ],
      "text/plain": [
       "                                              tweets dialect\n",
       "0            هذا القطار يتوقف في لاك فورست أليس كذلك     MSA\n",
       "1                                    هذا الكارت حسنا     MSA\n",
       "2                            لم يخرج من الماكينة شيء     MSA\n",
       "3           عندك أية شيء يمكن أن أتعاطه للطفح الجلدي     MSA\n",
       "4  أكيدا التي تتحدث معك أنا عندي حجز مائدة في تما...     MSA"
      ]
     },
     "execution_count": 12,
     "metadata": {},
     "output_type": "execute_result"
    }
   ],
   "source": [
    "print(f\"Shape: {test_data.shape}\")\n",
    "\n",
    "test_data.head()"
   ]
  },
  {
   "cell_type": "markdown",
   "metadata": {},
   "source": [
    "####  Stopwords  "
   ]
  },
  {
   "cell_type": "code",
   "execution_count": 13,
   "metadata": {},
   "outputs": [
    {
     "name": "stdout",
     "output_type": "stream",
     "text": [
      "Sample stopwords: ['اذ', 'اذا', 'اذم', 'اذن', 'اف', 'اقل', 'كثر', 'الا', 'الا', 'التي']\n"
     ]
    }
   ],
   "source": [
    "## Removing Stop Words using NLTK \n",
    "stemmer = nltk.stem.isri.ISRIStemmer()\n",
    "stemmed_stop_words = [stemmer.stem(words) for words in stopwords.words()]\n",
    "print(\"Sample stopwords:\", stemmed_stop_words[0:10])\n"
   ]
  },
  {
   "cell_type": "code",
   "execution_count": 14,
   "metadata": {},
   "outputs": [],
   "source": [
    "def neat_score(score):\n",
    "    \"\"\"A method to get percentage values rounded up to 2 decimal places from the score\"\"\"\n",
    "    return round(score*100, 2)"
   ]
  },
  {
   "cell_type": "markdown",
   "metadata": {},
   "source": [
    "#### Conversion of labels into numerric values"
   ]
  },
  {
   "cell_type": "markdown",
   "metadata": {},
   "source": [
    "Dialect should be converted into numeric values so that these might used in vectorization for both train-data and test-data."
   ]
  },
  {
   "cell_type": "markdown",
   "metadata": {},
   "source": [
    "##### For Train Data"
   ]
  },
  {
   "cell_type": "code",
   "execution_count": 15,
   "metadata": {},
   "outputs": [
    {
     "data": {
      "text/plain": [
       "LabelEncoder()"
      ]
     },
     "execution_count": 15,
     "metadata": {},
     "output_type": "execute_result"
    }
   ],
   "source": [
    "from sklearn import preprocessing\n",
    "y_encoder = preprocessing.LabelEncoder()\n",
    "y_encoder.fit(['ALE', 'ALG', 'ALX', 'AMM', 'ASW', 'BAG', 'BAS', 'BEI','BEN', 'CAI', 'DAM', 'DOH', 'FES', 'JED', 'JER', 'KHA', 'MOS', 'MUS', 'RAB', 'RIY', 'SAL','SAN', 'SFX', 'TRI', 'TUN', 'MSA'])"
   ]
  },
  {
   "cell_type": "code",
   "execution_count": 16,
   "metadata": {},
   "outputs": [],
   "source": [
    "def transform_label_into_Y_Encoder(data):\n",
    "    \n",
    "    dialect = y_encoder.classes_\n",
    "    # print(dialect)\n",
    "\n",
    "    dialect_num_label = dict()\n",
    "    for idx, lbl in enumerate(dialect):\n",
    "        dialect_num_label[idx] = lbl\n",
    "    # print(dialect_num_label)\n",
    "\n",
    "    y_dialect = y_encoder.fit_transform(data['dialect'].values)\n",
    "    # print(y_dialect_train)\n",
    "    return y_dialect"
   ]
  },
  {
   "cell_type": "code",
   "execution_count": 17,
   "metadata": {},
   "outputs": [],
   "source": [
    "y_dialect_train = transform_label_into_Y_Encoder(train_data)"
   ]
  },
  {
   "cell_type": "code",
   "execution_count": 18,
   "metadata": {},
   "outputs": [
    {
     "name": "stdout",
     "output_type": "stream",
     "text": [
      "Dialect is converted into numbers :  [17 17 17 ... 24 24 24]\n",
      "Length of total row in train data :  41599\n"
     ]
    }
   ],
   "source": [
    "print(\"Dialect is converted into numbers : \" ,y_dialect_train)\n",
    "print(\"Length of total row in train data : \", len(y_dialect_train))"
   ]
  },
  {
   "cell_type": "markdown",
   "metadata": {},
   "source": [
    "##### For Test Data"
   ]
  },
  {
   "cell_type": "code",
   "execution_count": 19,
   "metadata": {},
   "outputs": [],
   "source": [
    "y_dialect_test = transform_label_into_Y_Encoder(test_data)"
   ]
  },
  {
   "cell_type": "code",
   "execution_count": 20,
   "metadata": {},
   "outputs": [
    {
     "name": "stdout",
     "output_type": "stream",
     "text": [
      "Dialect is converted into numbers :  [17 17 17 ... 24 24 24]\n",
      "Length of total row in test data :  41599\n"
     ]
    }
   ],
   "source": [
    "print(\"Dialect is converted into numbers : \" ,y_dialect_train)\n",
    "print(\"Length of total row in test data : \", len(y_dialect_train))"
   ]
  },
  {
   "cell_type": "markdown",
   "metadata": {},
   "source": [
    " ##### Using nltk's ISRIStemmer"
   ]
  },
  {
   "cell_type": "markdown",
   "metadata": {},
   "source": [
    "Arabic Stemming without a root dictionary. A few minor modifications have been made to ISRI basic algorithm. \n",
    "`isri.stem(token)` returns Arabic root for the given token.\n",
    "\n",
    "   "
   ]
  },
  {
   "cell_type": "code",
   "execution_count": 21,
   "metadata": {},
   "outputs": [],
   "source": [
    "def stem_tokenizer(text):\n",
    "    # Get tokens from the text. Tokens of size < 2 will be removed automatically.\n",
    "    tokenizer = CountVectorizer().build_tokenizer()\n",
    "    tokens = tokenizer(text)\n",
    "\n",
    "    # stemming all tokens one by one.\n",
    "    stemmer = nltk.stem.isri.ISRIStemmer()\n",
    "    stem_tokens = []\n",
    "    for token in tokens:\n",
    "        stem_tokens.append(stemmer.stem(token))\n",
    "\n",
    "    return stem_tokens"
   ]
  },
  {
   "cell_type": "markdown",
   "metadata": {},
   "source": [
    "We are using a `TfidfVectorizer`. This approach gives more weight when a term appears multiple times in a single statement and penalizes common terms that appear in almost every stamement.\n",
    "\n",
    "#### Parameters\n",
    "\n",
    "* `stopwords` - We are passing the stop words which will be removed from the body of text after tokenization\n",
    "* `min_df` - The minimum no of documents in which a term should appear to be included in doucment-term matrix. It is currently choosen as 5.\n",
    "* `tokenizer` - A custom function which will tokenize the text. We are passing a tokenizer which will first create the tokens and then lemaitze them.\n",
    "* `ngram_range` - A bag-of-words model does not preserve sequence information so the order of words in a sentence is lost. Using n-grams we build terms using sequences of adjacent tokens.\n"
   ]
  },
  {
   "cell_type": "markdown",
   "metadata": {},
   "source": [
    "### Model_1 (Naive Bayes) for Word gram "
   ]
  },
  {
   "cell_type": "code",
   "execution_count": 22,
   "metadata": {},
   "outputs": [
    {
     "name": "stderr",
     "output_type": "stream",
     "text": [
      "C:\\Users\\abhay\\anaconda3\\envs\\Solution\\lib\\site-packages\\sklearn\\feature_extraction\\text.py:383: UserWarning: Your stop_words may be inconsistent with your preprocessing. Tokenizing the stop words generated tokens ['baiknya', 'berkali', 'kali', 'kurangnya', 'mata', 'olah', 'onların', 'printr', 'sekurang', 'setidak', 'tama', 'tidaknya', 'δι', 'арбаң', 'арсалаң', 'афташ', 'бай', 'бале', 'баски', 'батыр', 'баҳри', 'болои', 'бүгжең', 'бұтыр', 'валекин', 'вақте', 'вой', 'вуҷуди', 'гар', 'гарчанде', 'далаң', 'даме', 'ербелең', 'жалт', 'жұлт', 'карда', 'кошки', 'куя', 'күңгір', 'кӣ', 'магар', 'майлаш', 'митың', 'модоме', 'нияти', 'онан', 'оре', 'паһ', 'рӯи', 'салаң', 'сар', 'сұлаң', 'сұрт', 'тарбаң', 'тразе', 'ту', 'тыржың', 'тұрс', 'хом', 'хуб', 'чаро', 'чи', 'чун', 'чунон', 'шарте', 'шұңқ', 'ыржың', 'қадар', 'қайқаң', 'қалт', 'қаңғыр', 'қаңқ', 'қош', 'қызараң', 'құйқаң', 'құлт', 'құңқ', 'ұрс', 'ҳай', 'ҳамин', 'ҳатто', 'ҳо', 'ҳол', 'ҳолате', 'әттеген', 'ӯим', 'अक', 'अग', 'अझ', 'अन', 'अर', 'आजक', 'आत', 'आद', 'आफ', 'आय', 'ईक', 'उद', 'उनक', 'उनल', 'उह', 'एउट', 'एन', 'कog', 'कत', 'कम', 'कस', 'कसर', 'कह', 'गत', 'गय', 'गर', 'चम', 'छन', 'जत', 'जबक', 'जस', 'जसक', 'जसब', 'जसम', 'जसल', 'जह', 'तत', 'तथ', 'तदन', 'तप', 'तवम', 'नज', 'नत', 'नभन', 'नय', 'पक', 'पछ', 'पन', 'पय', 'पर', 'पष', 'पह', 'बन', 'बर', 'भएक', 'भय', 'भव', 'मल', 'यत', 'यथ', 'यद', 'यप', 'यसक', 'यसपछ', 'यसब', 'यसर', 'यह', 'रण', 'रत', 'रमश', 'रह', 'लस', 'वर', 'सक', 'सट', 'सध', 'सपछ', 'सब', 'सम', 'सर', 'सह', 'हन', 'हर', 'हरण', 'ἀλλ'] not in stop_words.\n",
      "  warnings.warn('Your stop_words may be inconsistent with '\n"
     ]
    },
    {
     "name": "stdout",
     "output_type": "stream",
     "text": [
      "Actual Label Values for test data :  [17 17 17 ... 24 24 24]\n",
      "Predicted Label Values for test data :  [17 17 13 ...  8 18 24]\n",
      "Model_1 accuracy 0.512021542604347'\n"
     ]
    }
   ],
   "source": [
    "tf_idf = TfidfVectorizer(stop_words=stemmed_stop_words, tokenizer=stem_tokenizer, analyzer='word',\n",
    "                     ngram_range=(1, 3))\n",
    "\n",
    "X_tweet_train = tf_idf.fit_transform(train_data['tweets'])\n",
    "y_dialect_train = y_encoder.fit_transform(train_data['dialect'].values)\n",
    "\n",
    "X_tweet_test = tf_idf.transform(test_data['tweets'])\n",
    "y_dialect_test = y_encoder.transform(test_data['dialect'].values)\n",
    "\n",
    "nb = MultinomialNB()\n",
    "nb.fit(X_tweet_train, y_dialect_train)\n",
    "\n",
    "y_pred = nb.predict(X_tweet_test)\n",
    "\n",
    "print(\"Actual Label Values for test data : \", y_dialect_test)\n",
    "print(\"Predicted Label Values for test data : \", y_pred)\n",
    "print(\"Model_1 accuracy %s'\" % accuracy_score(y_pred, y_dialect_test))"
   ]
  },
  {
   "cell_type": "code",
   "execution_count": 23,
   "metadata": {},
   "outputs": [
    {
     "name": "stdout",
     "output_type": "stream",
     "text": [
      "Accuracy score 51.2\n",
      "F1-score 51.21\n",
      "\n",
      "              precision    recall  f1-score   support\n",
      "\n",
      "           0       0.41      0.49      0.44       200\n",
      "           1       0.64      0.61      0.63       200\n",
      "           2       0.71      0.69      0.70       200\n",
      "           3       0.38      0.44      0.41       200\n",
      "           4       0.47      0.47      0.47       200\n",
      "           5       0.56      0.42      0.48       200\n",
      "           6       0.57      0.56      0.56       200\n",
      "           7       0.70      0.52      0.59       200\n",
      "           8       0.58      0.56      0.56       200\n",
      "           9       0.46      0.42      0.44       200\n",
      "          10       0.42      0.43      0.42       200\n",
      "          11       0.48      0.41      0.44       200\n",
      "          12       0.62      0.62      0.62       200\n",
      "          13       0.52      0.45      0.48       200\n",
      "          14       0.38      0.40      0.39       200\n",
      "          15       0.43      0.55      0.48       200\n",
      "          16       0.68      0.69      0.69       200\n",
      "          17       0.43      0.67      0.52       199\n",
      "          18       0.42      0.37      0.39       200\n",
      "          19       0.64      0.57      0.61       200\n",
      "          20       0.41      0.46      0.43       200\n",
      "          21       0.41      0.31      0.35       200\n",
      "          22       0.53      0.55      0.54       200\n",
      "          23       0.49      0.61      0.55       200\n",
      "          24       0.56      0.58      0.57       200\n",
      "          25       0.61      0.45      0.51       200\n",
      "\n",
      "    accuracy                           0.51      5199\n",
      "   macro avg       0.52      0.51      0.51      5199\n",
      "weighted avg       0.52      0.51      0.51      5199\n",
      "\n"
     ]
    }
   ],
   "source": [
    "accuracy_test_model_1 = accuracy_score(y_dialect_test, y_pred)\n",
    "f1_test_model_1 = f1_score(y_dialect_test, y_pred, average='macro')\n",
    "\n",
    "print(\"Accuracy score\", neat_score(accuracy_test_model_1))\n",
    "print(\"F1-score\", neat_score(f1_test_model_1))\n",
    "print()\n",
    "\n",
    "print(classification_report(y_dialect_test, y_pred))"
   ]
  },
  {
   "cell_type": "markdown",
   "metadata": {},
   "source": [
    "### Model_2 (Naive Bayes) for Char gram "
   ]
  },
  {
   "cell_type": "code",
   "execution_count": 24,
   "metadata": {},
   "outputs": [
    {
     "name": "stdout",
     "output_type": "stream",
     "text": [
      "Actual Label Values for test data :  [17 17 17 ... 24 24 24]\n",
      "Predicted Label Values for test data :  [17 17 23 ... 24 24 24]\n",
      "Model_1 accuracy 0.5908828620888632'\n"
     ]
    }
   ],
   "source": [
    "tf_idf_model_2 = TfidfVectorizer(stop_words=stemmed_stop_words, tokenizer=stem_tokenizer, analyzer='char',\n",
    "                                 ngram_range=(2, 5))\n",
    "\n",
    "X_tweet_train = tf_idf_model_2.fit_transform(train_data['tweets'])\n",
    "y_dialect_train = y_encoder.fit_transform(train_data['dialect'].values)\n",
    "\n",
    "X_tweet_test = tf_idf_model_2.transform(test_data['tweets'])\n",
    "y_dialect_test = y_encoder.transform(test_data['dialect'].values)\n",
    "\n",
    "nb = MultinomialNB()\n",
    "nb.fit(X_tweet_train, y_dialect_train)\n",
    "\n",
    "y_pred = nb.predict(X_tweet_test)\n",
    "\n",
    "print(\"Actual Label Values for test data : \", y_dialect_test)\n",
    "print(\"Predicted Label Values for test data : \", y_pred)\n",
    "print(\"Model_1 accuracy %s'\"  %accuracy_score(y_pred, y_dialect_test))"
   ]
  },
  {
   "cell_type": "code",
   "execution_count": 25,
   "metadata": {},
   "outputs": [
    {
     "name": "stdout",
     "output_type": "stream",
     "text": [
      "Accuracy score 59.09\n",
      "F1-score 58.8\n",
      "\n",
      "              precision    recall  f1-score   support\n",
      "\n",
      "           0       0.63      0.51      0.57       200\n",
      "           1       0.66      0.75      0.70       200\n",
      "           2       0.71      0.74      0.73       200\n",
      "           3       0.44      0.56      0.49       200\n",
      "           4       0.48      0.64      0.55       200\n",
      "           5       0.67      0.49      0.57       200\n",
      "           6       0.63      0.60      0.62       200\n",
      "           7       0.76      0.55      0.63       200\n",
      "           8       0.57      0.60      0.59       200\n",
      "           9       0.60      0.34      0.44       200\n",
      "          10       0.59      0.46      0.51       200\n",
      "          11       0.59      0.56      0.57       200\n",
      "          12       0.54      0.67      0.60       200\n",
      "          13       0.59      0.46      0.52       200\n",
      "          14       0.44      0.58      0.50       200\n",
      "          15       0.52      0.69      0.59       200\n",
      "          16       0.75      0.78      0.77       200\n",
      "          17       0.62      0.84      0.71       199\n",
      "          18       0.57      0.36      0.44       200\n",
      "          19       0.61      0.63      0.62       200\n",
      "          20       0.51      0.49      0.50       200\n",
      "          21       0.47      0.51      0.49       200\n",
      "          22       0.79      0.63      0.70       200\n",
      "          23       0.67      0.73      0.70       200\n",
      "          24       0.55      0.69      0.61       200\n",
      "          25       0.67      0.50      0.57       200\n",
      "\n",
      "    accuracy                           0.59      5199\n",
      "   macro avg       0.60      0.59      0.59      5199\n",
      "weighted avg       0.60      0.59      0.59      5199\n",
      "\n"
     ]
    }
   ],
   "source": [
    "accuracy_test_model_2 = accuracy_score(y_dialect_test, y_pred)\n",
    "f1_test_model_2 = f1_score(y_dialect_test, y_pred, average='macro')\n",
    "\n",
    "print(\"Accuracy score\", neat_score(accuracy_test_model_2))\n",
    "print(\"F1-score\", neat_score(f1_test_model_2))\n",
    "print()\n",
    "\n",
    "print(classification_report(y_dialect_test, y_pred))"
   ]
  },
  {
   "cell_type": "markdown",
   "metadata": {},
   "source": [
    "### Model_3 (SGDClassifier) for Word gram "
   ]
  },
  {
   "cell_type": "code",
   "execution_count": 26,
   "metadata": {},
   "outputs": [
    {
     "name": "stderr",
     "output_type": "stream",
     "text": [
      "C:\\Users\\abhay\\anaconda3\\envs\\Solution\\lib\\site-packages\\sklearn\\feature_extraction\\text.py:383: UserWarning: Your stop_words may be inconsistent with your preprocessing. Tokenizing the stop words generated tokens ['baiknya', 'berkali', 'kali', 'kurangnya', 'mata', 'olah', 'onların', 'printr', 'sekurang', 'setidak', 'tama', 'tidaknya', 'δι', 'арбаң', 'арсалаң', 'афташ', 'бай', 'бале', 'баски', 'батыр', 'баҳри', 'болои', 'бүгжең', 'бұтыр', 'валекин', 'вақте', 'вой', 'вуҷуди', 'гар', 'гарчанде', 'далаң', 'даме', 'ербелең', 'жалт', 'жұлт', 'карда', 'кошки', 'куя', 'күңгір', 'кӣ', 'магар', 'майлаш', 'митың', 'модоме', 'нияти', 'онан', 'оре', 'паһ', 'рӯи', 'салаң', 'сар', 'сұлаң', 'сұрт', 'тарбаң', 'тразе', 'ту', 'тыржың', 'тұрс', 'хом', 'хуб', 'чаро', 'чи', 'чун', 'чунон', 'шарте', 'шұңқ', 'ыржың', 'қадар', 'қайқаң', 'қалт', 'қаңғыр', 'қаңқ', 'қош', 'қызараң', 'құйқаң', 'құлт', 'құңқ', 'ұрс', 'ҳай', 'ҳамин', 'ҳатто', 'ҳо', 'ҳол', 'ҳолате', 'әттеген', 'ӯим', 'अक', 'अग', 'अझ', 'अन', 'अर', 'आजक', 'आत', 'आद', 'आफ', 'आय', 'ईक', 'उद', 'उनक', 'उनल', 'उह', 'एउट', 'एन', 'कog', 'कत', 'कम', 'कस', 'कसर', 'कह', 'गत', 'गय', 'गर', 'चम', 'छन', 'जत', 'जबक', 'जस', 'जसक', 'जसब', 'जसम', 'जसल', 'जह', 'तत', 'तथ', 'तदन', 'तप', 'तवम', 'नज', 'नत', 'नभन', 'नय', 'पक', 'पछ', 'पन', 'पय', 'पर', 'पष', 'पह', 'बन', 'बर', 'भएक', 'भय', 'भव', 'मल', 'यत', 'यथ', 'यद', 'यप', 'यसक', 'यसपछ', 'यसब', 'यसर', 'यह', 'रण', 'रत', 'रमश', 'रह', 'लस', 'वर', 'सक', 'सट', 'सध', 'सपछ', 'सब', 'सम', 'सर', 'सह', 'हन', 'हर', 'हरण', 'ἀλλ'] not in stop_words.\n",
      "  warnings.warn('Your stop_words may be inconsistent with '\n"
     ]
    },
    {
     "name": "stdout",
     "output_type": "stream",
     "text": [
      "Actual Label Values for test data :  [17 17 17 ... 24 24 24]\n",
      "Predicted Label Values for test data :  [ 5 17  0 ...  8 18 24]\n",
      "Model_3 accuracy 0.46701288709367184'\n"
     ]
    }
   ],
   "source": [
    "tf_idf_model_3 = TfidfVectorizer(stop_words=stemmed_stop_words, tokenizer=stem_tokenizer, analyzer='word',\n",
    "                                 ngram_range=(1, 3))\n",
    "\n",
    "X_tweet_train = tf_idf_model_3.fit_transform(train_data['tweets'])\n",
    "y_dialect_train = y_encoder.fit_transform(train_data['dialect'].values)\n",
    "\n",
    "X_tweet_test = tf_idf_model_3.transform(test_data['tweets'])\n",
    "y_dialect_test = y_encoder.transform(test_data['dialect'].values)\n",
    "\n",
    "nb = SGDClassifier(alpha=.001, random_state=5, max_iter=15)\n",
    "nb.fit(X_tweet_train, y_dialect_train)\n",
    "\n",
    "y_pred = nb.predict(X_tweet_test)\n",
    "\n",
    "print(\"Actual Label Values for test data : \", y_dialect_test)\n",
    "print(\"Predicted Label Values for test data : \", y_pred)\n",
    "print(\"Model_3 accuracy %s'\"  %accuracy_score(y_pred, y_dialect_test))"
   ]
  },
  {
   "cell_type": "code",
   "execution_count": 27,
   "metadata": {},
   "outputs": [
    {
     "name": "stdout",
     "output_type": "stream",
     "text": [
      "Accuracy score 46.7\n",
      "F1-score 45.99\n",
      "\n",
      "              precision    recall  f1-score   support\n",
      "\n",
      "           0       0.44      0.39      0.41       200\n",
      "           1       0.44      0.57      0.50       200\n",
      "           2       0.66      0.68      0.67       200\n",
      "           3       0.43      0.39      0.41       200\n",
      "           4       0.40      0.51      0.45       200\n",
      "           5       0.50      0.34      0.41       200\n",
      "           6       0.44      0.51      0.47       200\n",
      "           7       0.53      0.53      0.53       200\n",
      "           8       0.54      0.49      0.52       200\n",
      "           9       0.42      0.31      0.36       200\n",
      "          10       0.51      0.37      0.43       200\n",
      "          11       0.48      0.32      0.39       200\n",
      "          12       0.54      0.56      0.55       200\n",
      "          13       0.50      0.42      0.46       200\n",
      "          14       0.38      0.29      0.33       200\n",
      "          15       0.39      0.50      0.44       200\n",
      "          16       0.58      0.73      0.65       200\n",
      "          17       0.37      0.64      0.47       199\n",
      "          18       0.42      0.29      0.34       200\n",
      "          19       0.51      0.57      0.54       200\n",
      "          20       0.47      0.32      0.38       200\n",
      "          21       0.34      0.26      0.30       200\n",
      "          22       0.48      0.56      0.51       200\n",
      "          23       0.43      0.66      0.52       200\n",
      "          24       0.54      0.61      0.57       200\n",
      "          25       0.44      0.33      0.38       200\n",
      "\n",
      "    accuracy                           0.47      5199\n",
      "   macro avg       0.47      0.47      0.46      5199\n",
      "weighted avg       0.47      0.47      0.46      5199\n",
      "\n"
     ]
    }
   ],
   "source": [
    "accuracy_test_model_3 = accuracy_score(y_dialect_test, y_pred)\n",
    "f1_test_model_3 = f1_score(y_dialect_test, y_pred, average='macro')\n",
    "\n",
    "print(\"Accuracy score\", neat_score(accuracy_test_model_3))\n",
    "print(\"F1-score\", neat_score(f1_test_model_3))\n",
    "print()\n",
    "\n",
    "print(classification_report(y_dialect_test, y_pred))"
   ]
  },
  {
   "cell_type": "markdown",
   "metadata": {},
   "source": [
    "### Model_4 (SGDClassifier) for Char gram "
   ]
  },
  {
   "cell_type": "code",
   "execution_count": 28,
   "metadata": {},
   "outputs": [
    {
     "name": "stdout",
     "output_type": "stream",
     "text": [
      "Actual Label Values for test data :  [17 17 17 ... 24 24 24]\n",
      "Predicted Label Values for test data :  [17 17  0 ... 24 22 24]\n",
      "Model_3 accuracy 0.5733794960569341'\n"
     ]
    }
   ],
   "source": [
    "tf_idf_model_4 = TfidfVectorizer(stop_words=stemmed_stop_words, tokenizer=stem_tokenizer, analyzer='char',\n",
    "                                 ngram_range=(2, 5))\n",
    "\n",
    "X_tweet_train = tf_idf_model_4.fit_transform(train_data['tweets'])\n",
    "y_dialect_train = y_encoder.fit_transform(train_data['dialect'].values)\n",
    "\n",
    "X_tweet_test = tf_idf_model_4.transform(test_data['tweets'])\n",
    "y_dialect_test = y_encoder.transform(test_data['dialect'].values)\n",
    "\n",
    "nb = SGDClassifier(alpha=.001, random_state=5, max_iter=15)\n",
    "nb.fit(X_tweet_train, y_dialect_train)\n",
    "\n",
    "y_pred = nb.predict(X_tweet_test)\n",
    "\n",
    "print(\"Actual Label Values for test data : \", y_dialect_test)\n",
    "print(\"Predicted Label Values for test data : \", y_pred)\n",
    "print(\"Model_3 accuracy %s'\"  %accuracy_score(y_pred, y_dialect_test))"
   ]
  },
  {
   "cell_type": "code",
   "execution_count": 29,
   "metadata": {},
   "outputs": [
    {
     "name": "stdout",
     "output_type": "stream",
     "text": [
      "Accuracy score 57.34\n",
      "F1-score 56.44\n",
      "\n",
      "              precision    recall  f1-score   support\n",
      "\n",
      "           0       0.53      0.55      0.54       200\n",
      "           1       0.59      0.72      0.65       200\n",
      "           2       0.59      0.81      0.68       200\n",
      "           3       0.62      0.43      0.51       200\n",
      "           4       0.51      0.53      0.52       200\n",
      "           5       0.66      0.45      0.53       200\n",
      "           6       0.50      0.59      0.54       200\n",
      "           7       0.55      0.64      0.59       200\n",
      "           8       0.61      0.58      0.60       200\n",
      "           9       0.56      0.33      0.41       200\n",
      "          10       0.62      0.42      0.51       200\n",
      "          11       0.59      0.51      0.55       200\n",
      "          12       0.59      0.65      0.62       200\n",
      "          13       0.54      0.55      0.55       200\n",
      "          14       0.50      0.52      0.51       200\n",
      "          15       0.58      0.60      0.59       200\n",
      "          16       0.61      0.83      0.70       200\n",
      "          17       0.57      0.83      0.68       199\n",
      "          18       0.63      0.30      0.41       200\n",
      "          19       0.55      0.55      0.55       200\n",
      "          20       0.61      0.42      0.50       200\n",
      "          21       0.55      0.41      0.47       200\n",
      "          22       0.56      0.76      0.64       200\n",
      "          23       0.55      0.71      0.62       200\n",
      "          24       0.64      0.72      0.68       200\n",
      "          25       0.58      0.49      0.53       200\n",
      "\n",
      "    accuracy                           0.57      5199\n",
      "   macro avg       0.58      0.57      0.56      5199\n",
      "weighted avg       0.58      0.57      0.56      5199\n",
      "\n"
     ]
    }
   ],
   "source": [
    "accuracy_test_model_4 = accuracy_score(y_dialect_test, y_pred)\n",
    "f1_test_model_4 = f1_score(y_dialect_test, y_pred, average='macro')\n",
    "\n",
    "print(\"Accuracy score\", neat_score(accuracy_test_model_4))\n",
    "print(\"F1-score\", neat_score(f1_test_model_4))\n",
    "print()\n",
    "\n",
    "print(classification_report(y_dialect_test, y_pred))"
   ]
  },
  {
   "cell_type": "markdown",
   "metadata": {},
   "source": [
    "### Performance of Models"
   ]
  },
  {
   "cell_type": "markdown",
   "metadata": {},
   "source": [
    "The model performed decently on the test data. Althogh the accuracy and f1-score on test-set sufferd because of removing significantly number of words on preprocessing. This accuracy is acceptable for text classification models "
   ]
  },
  {
   "cell_type": "code",
   "execution_count": 30,
   "metadata": {},
   "outputs": [
    {
     "name": "stdout",
     "output_type": "stream",
     "text": [
      "\n"
     ]
    },
    {
     "data": {
      "image/png": "[encoded data removed]",
      "text/plain": [
       "<Figure size 720x432 with 1 Axes>"
      ]
     },
     "metadata": {
      "needs_background": "light"
     },
     "output_type": "display_data"
    }
   ],
   "source": [
    "axes = pd.DataFrame({'Model_1':[accuracy_test_model_1, f1_test_model_1],'Model_2':[accuracy_test_model_2, f1_test_model_2],'Model_3':[accuracy_test_model_3, f1_test_model_3],'Model_4':[accuracy_test_model_4, f1_test_model_4]},\n",
    "                    index=['accuracy', 'f1-score']).plot.bar(figsize=(10, 6))\n",
    "axes.set_title(\"Model performance\")\n",
    "axes.set_xlabel('Metrics')\n",
    "axes.set_ylim(0, 1.2)\n",
    "plt.sca(axes)\n",
    "plt.xticks(rotation=30)\n",
    "for p in axes.patches:\n",
    "    axes.annotate(str(round(p.get_height(),2)), (p.get_x() * 1.005, p.get_height() * 1.005))\n",
    "print()"
   ]
  },
  {
   "cell_type": "markdown",
   "metadata": {},
   "source": [
    "## Conclusions"
   ]
  },
  {
   "cell_type": "markdown",
   "metadata": {},
   "source": [
    "We classified Arabic statements concerning its dialect. Complete data was successfully collected. These statements have punctuations, repeating words, stop words etc. They were converted into a bag of words representation using several text pre-processing steps. The classification models built on **Arabic Tweets and dialect** performed decently with good accuracy, f1-scores.\n",
    "\n",
    "We can observe that model performed well when char gram feature with n gram-range(2-5) is used. While the word gram features model suffered *due to a small bag of vocabulary*. F1-score is harmonic mean of precision and recall. It tells how baised is our classifier towards any label. In our case, data is balanced. therefore, f1-score is not much significant for this dataset. But bottm line, f1-score should be high. we can say that  This assignment was good and well designed to make learn and implement test classification models. \n"
   ]
  }
 ],
 "metadata": {
  "kernelspec": {
   "display_name": "Python 3",
   "language": "python",
   "name": "python3"
  },
  "language_info": {
   "codemirror_mode": {
    "name": "ipython",
    "version": 3
   },
   "file_extension": ".py",
   "mimetype": "text/x-python",
   "name": "python",
   "nbconvert_exporter": "python",
   "pygments_lexer": "ipython3",
   "version": "3.8.5"
  }
 },
 "nbformat": 4,
 "nbformat_minor": 4
}
